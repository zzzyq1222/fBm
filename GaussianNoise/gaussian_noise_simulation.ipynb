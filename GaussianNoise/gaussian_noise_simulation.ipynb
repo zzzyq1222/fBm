{
 "cells": [
  {
   "cell_type": "code",
   "execution_count": 1,
   "id": "bdf37439",
   "metadata": {},
   "outputs": [],
   "source": [
    "import math\n",
    "import numpy\n",
    "import matplotlib\n",
    "import matplotlib.pyplot as plt"
   ]
  },
  {
   "cell_type": "code",
   "execution_count": 4,
   "id": "6761ba68",
   "metadata": {},
   "outputs": [],
   "source": [
    "\"\"\"\n",
    "Generate Gaussian noise\n",
    "1. Inverse transforming\n",
    "2. Box-Muller method\n",
    "\"\"\"\n",
    "\n",
    "\n",
    "class GaussianNoiseSimulation:\n",
    "    def __init__(self):\n",
    "        pass\n",
    "\n",
    "    \"\"\"\n",
    "    1. Inverse transforming method\n",
    "    using the method given by 26.2.23 formula in 'Handbook of \n",
    "    Mathematical Functions With Formulas, Graphs, and Mathematical Tables'\n",
    "    \"\"\"\n",
    "\n",
    "    \"\"\"p is the generated uniform variable\"\"\"\n",
    "    def numericalApproximation(self, t):\n",
    "        c0 = 2.515517\n",
    "        c1 = 0.802853\n",
    "        c2 = 0.010328\n",
    "        d1 = 1.432788\n",
    "        d2 = 0.189269\n",
    "        d3 = 0.001308\n",
    "        denominator = 1 + t*(d1 + t*(d2 + d3*t))\n",
    "        nominator = c0 + t*(c1+c2*t)\n",
    "        return t - nominator/denominator\n",
    "\n",
    "    def inverse(self, p) -> float:\n",
    "        if p < 0.5:\n",
    "            t = math.sqrt(-2 * math.log(p))\n",
    "            return - self.numericalApproximation(t)\n",
    "        else:\n",
    "            t = math.sqrt(-2 * math.log(1-p))\n",
    "            return self.numericalApproximation(t)\n",
    "\n",
    "\n",
    "\n",
    "    def inverse_transform_method(self, n):\n",
    "        u = numpy.random.uniform(0, 1, n)\n",
    "        generated_gn = []\n",
    "        for i in range(n):\n",
    "            generated_gn.append(self.inverse(u[i]))\n",
    "        return generated_gn\n",
    "\n",
    "    \"\"\"generate n uniform var and computes the corresponding normal var\"\"\"\n",
    "\n",
    "    \"\"\"\n",
    "    2. Box-Muller method\n",
    "    input: n\n",
    "    output: 2*n normal random numbers\n",
    "    \"\"\"\n",
    "\n",
    "    def box_muller_method(self, n):\n",
    "        u1 = numpy.random.uniform(0, 1, n)\n",
    "        u2 = numpy.random.uniform(0, 1, n)\n",
    "        generated_gn = []\n",
    "        for i in range(n):\n",
    "            n1 = math.sqrt(-2 * math.log(u1[i])) * math.cos(2 * math.pi * u2[i])\n",
    "            n2 = math.sqrt(-2 * math.log(u1[i])) * math.sin(2 * math.pi * u2[i])\n",
    "            generated_gn.extend([n1, n2])\n",
    "\n",
    "        return generated_gn\n",
    "\n",
    "    def generateNGn(self, n, method):\n",
    "        if method == 'inverse':\n",
    "            return self.inverse_transform_method(n)\n",
    "        elif method == 'box-muller':\n",
    "            return self.box_muller_method(n)\n",
    "\n",
    "    def draw_histogram(self, data, name):\n",
    "        matplotlib.rcParams['axes.unicode_minus'] = False\n",
    "        plt.hist(data, bins=100, density=True, facecolor=\"blue\", edgecolor=\"black\")\n",
    "        plt.xlabel(\"x\")\n",
    "        plt.ylabel(\"probability\")\n",
    "        plt.title(\"Distribution using \" + name)\n",
    "        plt.show()\n",
    "\n",
    "    def cal_sigma(self, data, mu):\n",
    "        sum = 0\n",
    "        for i in range(len(data)):\n",
    "            try:\n",
    "                sum += math.pow(data[i] - mu, 2)\n",
    "            except:\n",
    "                print(data[i], mu)\n",
    "                # given the hint by Numerical solution of SDE\n",
    "        return sum / (len(data) - 1)\n",
    "\n",
    "    def cal_mu(self, data):\n",
    "        s = sum(data)\n",
    "        return s / len(data)"
   ]
  },
  {
   "cell_type": "code",
   "execution_count": 5,
   "id": "96e256e6",
   "metadata": {},
   "outputs": [
    {
     "data": {
      "image/png": "[encoded data removed]",
      "text/plain": [
       "<Figure size 432x288 with 1 Axes>"
      ]
     },
     "metadata": {
      "needs_background": "light"
     },
     "output_type": "display_data"
    },
    {
     "name": "stdout",
     "output_type": "stream",
     "text": [
      "Inverse method: sigma =  0.998660955112099 , mu =  -0.0012163668532336463\n"
     ]
    }
   ],
   "source": [
    "gn = GaussianNoiseSimulation()\n",
    "num = 1_000_000  # number of normal variables\n",
    "data_inverse = gn.generateNGn(num, 'inverse')\n",
    "sigma_inverse = gn.cal_sigma(data_inverse, 0)\n",
    "mu_inverse = gn.cal_mu(data_inverse)\n",
    "gn.draw_histogram(data_inverse, \"inverse transforming method\")\n",
    "print(\"Inverse method: sigma = \", sigma_inverse,\", mu = \", mu_inverse)"
   ]
  },
  {
   "cell_type": "code",
   "execution_count": 6,
   "id": "a5ab97b2",
   "metadata": {},
   "outputs": [
    {
     "data": {
      "image/png": "[encoded data removed]",
      "text/plain": [
       "<Figure size 432x288 with 1 Axes>"
      ]
     },
     "metadata": {
      "needs_background": "light"
     },
     "output_type": "display_data"
    },
    {
     "name": "stdout",
     "output_type": "stream",
     "text": [
      "Box-Muller method: sigma =  1.0010904615491203 , mu =  -0.00023316123214969968\n"
     ]
    }
   ],
   "source": [
    "data_box_muller = gn.generateNGn(num, 'box-muller')\n",
    "sigma_box_muller = gn.cal_sigma(data_box_muller, 0)\n",
    "mu_box_muller = gn.cal_mu(data_box_muller)\n",
    "gn.draw_histogram(data_box_muller, \"Box-Muller method\")\n",
    "\n",
    "\n",
    "print(\"Box-Muller method: sigma = \", sigma_box_muller, \", mu = \", mu_box_muller)\n"
   ]
  },
  {
   "cell_type": "code",
   "execution_count": null,
   "id": "a0be6b50",
   "metadata": {},
   "outputs": [],
   "source": []
  }
 ],
 "metadata": {
  "kernelspec": {
   "display_name": "Python 3 (ipykernel)",
   "language": "python",
   "name": "python3"
  },
  "language_info": {
   "codemirror_mode": {
    "name": "ipython",
    "version": 3
   },
   "file_extension": ".py",
   "mimetype": "text/x-python",
   "name": "python",
   "nbconvert_exporter": "python",
   "pygments_lexer": "ipython3",
   "version": "3.9.12"
  }
 },
 "nbformat": 4,
 "nbformat_minor": 5
}
